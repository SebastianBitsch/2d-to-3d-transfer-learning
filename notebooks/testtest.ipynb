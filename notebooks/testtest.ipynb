{
 "cells": [
  {
   "cell_type": "code",
   "execution_count": 1,
   "metadata": {},
   "outputs": [],
   "source": [
    "import random\n",
    "from pathlib import Path\n",
    "\n",
    "import matplotlib.pyplot as plt\n",
    "import numpy as np\n",
    "import nibabel as nib\n",
    "# from tqdm import tqdm\n",
    "import medpy.metric as metric\n",
    "\n",
    "import torch.nn as nn\n",
    "import torch.nn.functional as F\n",
    "import torch\n",
    "import wandb\n",
    "from tqdm import tqdm\n",
    "\n",
    "import monai\n",
    "from monai.data import DataLoader, Dataset\n",
    "from omegaconf import OmegaConf\n",
    "from monai.transforms.utils import allow_missing_keys_mode\n",
    "from monai.transforms import BatchInverseTransform\n",
    "from monai.networks.nets import DynUNet"
   ]
  },
  {
   "cell_type": "code",
   "execution_count": 2,
   "metadata": {},
   "outputs": [],
   "source": [
    "from tl_2d3d.data.make_dataset import make_dataloaders\n",
    "from tl_2d3d.utils import hd95, set_seed"
   ]
  },
  {
   "cell_type": "code",
   "execution_count": 10,
   "metadata": {},
   "outputs": [],
   "source": [
    "device = \"cpu\""
   ]
  },
  {
   "cell_type": "code",
   "execution_count": 24,
   "metadata": {},
   "outputs": [],
   "source": [
    "def test(model: torch.nn.Module, dataloader, inferer, config) -> None:\n",
    "    dice_score = 0.0\n",
    "    hd95_score = 0.0\n",
    "\n",
    "    for batch in tqdm(dataloader):\n",
    "        x = batch['image'].to(device)\n",
    "        y = batch['label'].to(device)\n",
    "\n",
    "        with torch.no_grad():\n",
    "            y_pred = inferer(inputs=x, network=model)\n",
    "\n",
    "        y = y.argmax(dim=1).squeeze(-1)           # 1, 256, 256\n",
    "        y_pred = y_pred.argmax(dim=1).squeeze(-1) # 1, 256, 256\n",
    "\n",
    "        dice_score += metric.dc(y_pred, y)\n",
    "        hd95_score += hd95(y, y_pred, config)\n",
    "    \n",
    "    print(f\"avg dice: {dice_score / len(dataloader)}, \\navg hd95: {hd95_score / len(dataloader)}\")"
   ]
  },
  {
   "cell_type": "code",
   "execution_count": 26,
   "metadata": {},
   "outputs": [
    {
     "name": "stderr",
     "output_type": "stream",
     "text": [
      "100%|█████████████████████████████████████████████████████████████████████| 20/20 [00:13<00:00,  1.50it/s]"
     ]
    },
    {
     "name": "stdout",
     "output_type": "stream",
     "text": [
      "avg dice: 0.703886128635445, \n",
      "avg hd95: 20.641459036681475\n"
     ]
    },
    {
     "name": "stderr",
     "output_type": "stream",
     "text": [
      "\n"
     ]
    }
   ],
   "source": [
    "config = OmegaConf.load('2d-to-3d-transfer-learning/tl_2d3d/conf/config.yaml')\n",
    "inferer = monai.inferers.SliceInferer(roi_size=[-1, -1], spatial_dim=2, sw_batch_size=1)\n",
    "set_seed(config.hyperparameters.seed)\n",
    "\n",
    "_, _, test_dataloader = make_dataloaders(config, use_dataset_a=True) # contains 20 volumes\n",
    "\n",
    "model = torch.load(\"/work3/s204163/3dimaging_finalproject/weights/baseline2d_101/baseline2d_final.pt\", map_location=\"cpu\")\n",
    "model.eval()\n",
    "\n",
    "test(model, test_dataloader, inferer, config)"
   ]
  },
  {
   "cell_type": "code",
   "execution_count": 27,
   "metadata": {},
   "outputs": [
    {
     "name": "stderr",
     "output_type": "stream",
     "text": [
      "100%|█████████████████████████████████████████████████████████████████████| 20/20 [00:13<00:00,  1.50it/s]"
     ]
    },
    {
     "name": "stdout",
     "output_type": "stream",
     "text": [
      "avg dice: 0.7755802148196972, \n",
      "avg hd95: 21.117527552336703\n"
     ]
    },
    {
     "name": "stderr",
     "output_type": "stream",
     "text": [
      "\n"
     ]
    }
   ],
   "source": [
    "config = OmegaConf.load('2d-to-3d-transfer-learning/tl_2d3d/conf/config.yaml')\n",
    "inferer = monai.inferers.SliceInferer(roi_size=[-1, -1], spatial_dim=2, sw_batch_size=1)\n",
    "set_seed(config.hyperparameters.seed)\n",
    "\n",
    "_, _, test_dataloader = make_dataloaders(config, use_dataset_a=True) # contains 20 volumes\n",
    "\n",
    "model = torch.load(\"/work3/s204163/3dimaging_finalproject/weights/finetune2d_101/finetune2d_final.pt\", map_location=\"cpu\")\n",
    "model.eval()\n",
    "\n",
    "test(model, test_dataloader, inferer, config)"
   ]
  },
  {
   "cell_type": "markdown",
   "metadata": {},
   "source": [
    "# 3D"
   ]
  },
  {
   "cell_type": "code",
   "execution_count": null,
   "metadata": {},
   "outputs": [
    {
     "name": "stderr",
     "output_type": "stream",
     "text": [
      "  0%|                                                                              | 0/20 [00:00<?, ?it/s]"
     ]
    },
    {
     "name": "stderr",
     "output_type": "stream",
     "text": [
      "100%|█████████████████████████████████████████████████████████████████████| 20/20 [04:03<00:00, 12.20s/it]"
     ]
    },
    {
     "name": "stdout",
     "output_type": "stream",
     "text": [
      "avg dice: 0.9277031313190689, \n",
      "avg hd95: 9.565172027284092\n"
     ]
    },
    {
     "name": "stderr",
     "output_type": "stream",
     "text": [
      "\n"
     ]
    }
   ],
   "source": [
    "config = OmegaConf.load('2d-to-3d-transfer-learning/tl_2d3d/conf/config.yaml')\n",
    "config.data.image_dims = [256, 256, 32]\n",
    "config.data.crop_size  = [-1, -1, -1]\n",
    "config.model.num_dimensions = 3\n",
    "inferer = monai.inferers.SlidingWindowInferer(roi_size=(256, 256, -1), sw_batch_size=1)\n",
    "\n",
    "_, _, test_dataloader = make_dataloaders(config, use_dataset_a=True) # contains 20 volumes\n",
    "\n",
    "model = torch.load(\"/work3/s204163/3dimaging_finalproject/weights/baseline3d_101/baseline3d_final.pt\", map_location=\"cpu\")\n",
    "model.eval()\n",
    "test(model, test_dataloader, inferer, config)"
   ]
  }
 ],
 "metadata": {
  "kernelspec": {
   "display_name": "Python 3 (ipykernel)",
   "language": "python",
   "name": "python3"
  },
  "language_info": {
   "codemirror_mode": {
    "name": "ipython",
    "version": 3
   },
   "file_extension": ".py",
   "mimetype": "text/x-python",
   "name": "python",
   "nbconvert_exporter": "python",
   "pygments_lexer": "ipython3",
   "version": "3.10.13"
  }
 },
 "nbformat": 4,
 "nbformat_minor": 2
}
