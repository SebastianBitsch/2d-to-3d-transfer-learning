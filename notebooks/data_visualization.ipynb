{
 "cells": [
  {
   "cell_type": "code",
   "execution_count": 26,
   "metadata": {},
   "outputs": [],
   "source": [
    "import random\n",
    "from pathlib import Path\n",
    "\n",
    "import matplotlib.pyplot as plt\n",
    "import numpy as np\n",
    "import nibabel as nib\n",
    "from tqdm import tqdm\n",
    "import medpy.metric as metric\n",
    "\n",
    "import torch\n",
    "\n",
    "import monai\n",
    "from monai.data import DataLoader, Dataset\n",
    "from monai.transforms.utils import allow_missing_keys_mode\n",
    "from monai.transforms import BatchInverseTransform\n",
    "from monai.networks.nets import DynUNet"
   ]
  },
  {
   "cell_type": "code",
   "execution_count": 30,
   "metadata": {},
   "outputs": [],
   "source": [
    "device = \"cpu\"\n",
    "seed = 0\n",
    "\n",
    "torch.manual_seed(seed)\n",
    "random.seed(seed)\n",
    "np.random.seed(seed)\n",
    "torch.use_deterministic_algorithms(True)\n"
   ]
  },
  {
   "cell_type": "code",
   "execution_count": 28,
   "metadata": {},
   "outputs": [],
   "source": [
    "def read_acd_data(dataset_path: str = \"/dtu/3d-imaging-center/courses/02510/data/ACDC17\") -> list[dict]:\n",
    "    \"\"\" Assumes the data is in patient00X folders etc. \"\"\"\n",
    "    return [\n",
    "        {\n",
    "            'image': str(path),                                 # the unlabeled volume file\n",
    "            'label': str(path).replace(\".nii.gz\", \"_gt.nii.gz\"),# all the labeled data has _gt in the path\n",
    "            'id': path.name.split(\".\")[0]                       # the file name without ending \n",
    "        }\n",
    "        for path in sorted(Path(dataset_path).glob(\"*/*frame[0-9][0-9].nii.gz\"))\n",
    "    ]"
   ]
  },
  {
   "cell_type": "code",
   "execution_count": 29,
   "metadata": {},
   "outputs": [
    {
     "name": "stdout",
     "output_type": "stream",
     "text": [
      "{'image': '/dtu/3d-imaging-center/courses/02510/data/ACDC17/patient001/patient001_frame01.nii.gz', 'label': '/dtu/3d-imaging-center/courses/02510/data/ACDC17/patient001/patient001_frame01_gt.nii.gz', 'id': 'patient001_frame01'}\n"
     ]
    }
   ],
   "source": [
    "all_files = read_acd_data()\n",
    "print(all_files[0])"
   ]
  },
  {
   "cell_type": "code",
   "execution_count": 31,
   "metadata": {},
   "outputs": [
    {
     "data": {
      "image/png": "[encoded data removed]",
      "text/plain": [
       "<Figure size 800x800 with 3 Axes>"
      ]
     },
     "metadata": {},
     "output_type": "display_data"
    }
   ],
   "source": [
    "im = nib.load(all_files[0]['image'])\n",
    "label = nib.load(all_files[0]['label'])\n",
    "name = all_files[0]['id']\n",
    "\n",
    "x,y,z = im.shape[0] // 2, im.shape[1] // 2, im.shape[2] // 2\n",
    "\n",
    "plot = nib.viewers.OrthoSlicer3D(label.get_fdata(), title=\"Center slice of MRI data\")\n",
    "plot.set_position(x,y,z)\n",
    "plt.tight_layout()\n",
    "plot.show()"
   ]
  },
  {
   "cell_type": "code",
   "execution_count": 17,
   "metadata": {},
   "outputs": [],
   "source": [
    "from torch.utils.data import random_split\n",
    "\n",
    "transforms = monai.transforms.Compose([\n",
    "    monai.transforms.LoadImaged(keys=['image', 'label']),\n",
    "    monai.transforms.EnsureChannelFirstd(keys=['image', 'label']),\n",
    "    # TODO: Normalize for voxel/pixel size etc.\n",
    "    # TODO: (Light) data augmentation\n",
    "])\n",
    "\n",
    "full_dataset = Dataset(data=all_files, transform=transforms)\n",
    "train_dataset, val_dataset, test_dataset = random_split(full_dataset, lengths = [0.7,0.1,0.2])\n",
    "\n",
    "train_dataloader = DataLoader(train_dataset, batch_size=1, shuffle=True)\n",
    "val_dataloader   = DataLoader(val_dataset, batch_size=1, shuffle=False) \n",
    "test_dataloader  = DataLoader(test_dataset, batch_size=1, shuffle=False) "
   ]
  },
  {
   "cell_type": "code",
   "execution_count": 32,
   "metadata": {},
   "outputs": [
    {
     "name": "stdout",
     "output_type": "stream",
     "text": [
      "Num params: 20_611_236\n"
     ]
    }
   ],
   "source": [
    "def count_parameters(model): \n",
    "    \"\"\" Get the number of params in a model. See: https://discuss.pytorch.org/t/how-do-i-check-the-number-of-parameters-of-a-model/4325\"\"\"\n",
    "    return sum(p.numel() for p in model.parameters() if p.requires_grad)\n",
    "\n",
    "model = DynUNet(\n",
    "    spatial_dims = 2,   # 2 for 2D convolutions, 3 for 3D convolutions\n",
    "    in_channels  = 1,   # Number of input channels/modalities (3 for RGB)\n",
    "    out_channels = 4,   # Number of classes, including background\n",
    "    kernel_size  = [3, 3, 3, 3, 3, 3], # Size of the filters\n",
    "    strides      = [1, 2, 2, 2, 2, 2],\n",
    "    upsample_kernel_size = [2, 2, 2, 2, 2]\n",
    ").to(device)\n",
    "\n",
    "print(f\"Num params: {count_parameters(model):_}\")"
   ]
  },
  {
   "cell_type": "markdown",
   "metadata": {},
   "source": [
    "## Training"
   ]
  },
  {
   "cell_type": "code",
   "execution_count": 36,
   "metadata": {},
   "outputs": [],
   "source": [
    "lr = 1e-3\n",
    "n_epochs = 3\n",
    "\n",
    "loss_fn = monai.losses.DiceLoss(softmax=True, to_onehot_y=False) # Apply \"softmax\" to the output of the network and don't convert to onehot because this is done already by the transforms.\n",
    "optimizer = torch.optim.Adam(model.parameters(), lr = lr)\n",
    "inferer = monai.inferers.SliceInferer(roi_size=[-1, -1], spatial_dim=2, sw_batch_size=1)\n",
    "\n",
    "\n",
    "for epoch in range(n_epochs):\n",
    "    # Train\n",
    "    model.train()\n",
    "\n",
    "    for i, (image, label) in enumerate(train_dataloader):\n",
    "        pass\n",
    "\n",
    "    \n",
    "    # Validate\n",
    "    model.eval()\n",
    "    for i, (image, label) in enumerate(val_dataloader):\n",
    "        pass\n",
    "\n",
    "    \n",
    "    # Logging\n"
   ]
  },
  {
   "cell_type": "markdown",
   "metadata": {},
   "source": [
    "## Plot results"
   ]
  },
  {
   "cell_type": "code",
   "execution_count": null,
   "metadata": {},
   "outputs": [],
   "source": []
  }
 ],
 "metadata": {
  "kernelspec": {
   "display_name": "Python 3 (ipykernel)",
   "language": "python",
   "name": "python3"
  },
  "language_info": {
   "codemirror_mode": {
    "name": "ipython",
    "version": 3
   },
   "file_extension": ".py",
   "mimetype": "text/x-python",
   "name": "python",
   "nbconvert_exporter": "python",
   "pygments_lexer": "ipython3",
   "version": "3.11.5"
  }
 },
 "nbformat": 4,
 "nbformat_minor": 2
}
