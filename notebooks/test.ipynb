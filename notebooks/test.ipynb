{
 "cells": [
  {
   "cell_type": "code",
   "execution_count": null,
   "metadata": {},
   "outputs": [],
   "source": [
    "import torch\n",
    "from omegaconf import DictConfig\n",
    "import monai\n",
    "import matplotlib.pyplot as plt\n",
    "\n",
    "from tl_2d3d.data.make_dataset_test import make_dataloaders\n",
    "from tl_2d3d.utils import get_device, set_seed\n",
    "from tl_2d3d.models.model import make_model\n",
    "import medpy.metric as metric\n",
    "\n",
    "from monai.transforms import BatchInverseTransform\n",
    "from monai import allow_missing_keys_mode"
   ]
  },
  {
   "cell_type": "markdown",
   "metadata": {},
   "source": [
    "## Load model"
   ]
  },
  {
   "cell_type": "code",
   "execution_count": null,
   "metadata": {},
   "outputs": [],
   "source": [
    "model_path = ''\n",
    "config = DictConfig\n",
    "set_seed(seed = config.hyperparameters.seed)\n",
    "device = get_device()\n",
    "\n",
    "# Load test dataloader\n",
    "_, _, test_dataloader, test_transforms = make_dataloaders(config, use_dataset_a=config.data.use_dataset_a)\n",
    "\n",
    "# Load model\n",
    "model = make_model(config, device = device)\n",
    "model = model.load_state_dict(torch.load(model_path))\n",
    "model.to(device)\n",
    "\n",
    "inferer = monai.inferers.SliceInferer(roi_size=[-1, -1], spatial_dim=2, sw_batch_size=1)\n"
   ]
  },
  {
   "cell_type": "markdown",
   "metadata": {},
   "source": [
    "## Test on testset"
   ]
  },
  {
   "cell_type": "code",
   "execution_count": null,
   "metadata": {},
   "outputs": [],
   "source": [
    "# Evaluate\n",
    "model.eval()\n",
    "test_dices = []\n",
    "test_hd95 = []\n",
    "for batch_num, batch in enumerate(test_dataloader):\n",
    "    x = batch['image'].to(device).squeeze(dim=-1)\n",
    "    y = batch['label'].to(device).squeeze(dim=-1)\n",
    "\n",
    "    with torch.no_grad():\n",
    "        prediction = inferer(inputs=x, model=model)\n",
    "        \n",
    "    batch_inverter = BatchInverseTransform(test_transforms, test_dataloader)\n",
    "    with allow_missing_keys_mode(test_transforms):\n",
    "        inversed_prediction = batch_inverter({'label': prediction})\n",
    "        inversed_targets = batch_inverter({'label': y})\n",
    "        \n",
    "    inversed_prediction = [monai.transforms.AsDiscrete(argmax=True)(pred['label']) for pred in inversed_prediction]\n",
    "        \n",
    "    for b in range(prediction.shape[0]):\n",
    "        test_dices.append(metric.dc( 1*(inversed_prediction[b]),\n",
    "                                   1*(inversed_targets[b]['label']) ) )\n",
    "        test_hd95.append(metric.binary.hd95( 1*(inversed_prediction[b]),\n",
    "                                   1*(inversed_targets[b]['label']), voxelspacing=config.data.voxel_dims))\n",
    "\n",
    "        \n",
    "# Average scores and log final metrics\n",
    "final_dice = sum(test_dices) / len(test_dataloader)\n",
    "final_hd95 = sum(test_hd95) / len(test_dataloader)\n",
    "    \n",
    "print(f\"Final Test Metrics | Dice Score: {final_dice:.3f} | HD95 Score: {final_hd95:.3f}\")\n"
   ]
  },
  {
   "cell_type": "markdown",
   "metadata": {},
   "source": [
    "## Plot results"
   ]
  },
  {
   "cell_type": "code",
   "execution_count": null,
   "metadata": {},
   "outputs": [],
   "source": [
    "fig, axes = plt.subplots(4, 4, figsize=(12, 12))\n",
    "\n",
    "slices = [1, 2, 3, 4]\n",
    "inputs_cpu = x.cpu().detach().numpy()\n",
    "inversed_prediction_cpu = inversed_prediction[0].cpu().detach().numpy()\n",
    "inversed_targets_cpu = inversed_targets[0]['label'].cpu().detach().numpy()\n",
    "\n",
    "for i, sl in enumerate(slices):\n",
    "    # Image slices\n",
    "    axes[0, i].imshow(inputs_cpu[0,0, :, :, sl], cmap=\"gray\")\n",
    "    axes[0, i].axis('off')\n",
    "    # Predictions by our trained model\n",
    "    axes[1, i].imshow(inversed_prediction_cpu[0, :, :, sl], cmap=\"gray\")\n",
    "    axes[1, i].axis('off')\n",
    "    # Ground truth\n",
    "    axes[2, i].imshow(inversed_targets_cpu[0, :, :, sl], cmap=\"gray\")\n",
    "    axes[2, i].axis('off')\n",
    "    # Error maps\n",
    "    axes[3, i].imshow(inversed_targets_cpu[0, :, :, sl] != inversed_prediction_cpu[0, :, :, sl], cmap=\"gray\")\n",
    "    axes[3, i].axis('off')\n",
    "fig.suptitle(f\"Dice Score: {final_dice:.3f} | HD95 Score: {final_hd95:.3f}\", fontsize=16)\n",
    "fig.savefig('predictions.png')  \n",
    "plt.show()"
   ]
  }
 ],
 "metadata": {
  "language_info": {
   "name": "python"
  }
 },
 "nbformat": 4,
 "nbformat_minor": 2
}
